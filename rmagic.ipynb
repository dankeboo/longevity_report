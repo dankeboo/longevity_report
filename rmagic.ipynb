{
 "cells": [
  {
   "cell_type": "code",
   "execution_count": null,
   "metadata": {},
   "outputs": [],
   "source": [
    "%reload_ext rpy2.ipython\n",
    "%R data <- read.csv('~/Desktop/metrics.csv')"
   ]
  },
  {
   "cell_type": "code",
   "execution_count": null,
   "metadata": {},
   "outputs": [],
   "source": [
    "%%R\n",
    "library('ggplot2')\n",
    "library('plyr')\n",
    "\n",
    "data$time <- as.POSIXct(data$time, origin=\"1970-01-01\")\n",
    "\n",
    "pdf(paste0('/Users/yhirasawa/Desktop/metrics.pdf'))\n",
    "d_ply(\n",
    "    data,\n",
    "    .(scope,obj),\n",
    "    function (d){\n",
    "        p <- ggplot(d) + aes(time, value, color=host, group=host) +\n",
    "        #geom_point() +\n",
    "        geom_line() +\n",
    "        facet_wrap(~variable, ncol=1, scale='free_y') +\n",
    "        ggtitle(paste(d$scope[1],\"::\", d$obj[1])) +\n",
    "        theme(    \n",
    "            legend.position = \"none\", legend.text=element_text(size=3),\n",
    "            axis.text.x = element_text(size = 5, angle=90, hjust=1),\n",
    "            plot.title = element_text(size=5)\n",
    "        ) \n",
    "        print(p)\n",
    "    }\n",
    ")\n",
    "dev.off()"
   ]
  },
  {
   "cell_type": "code",
   "execution_count": null,
   "metadata": {},
   "outputs": [],
   "source": [
    "%R write.csv(data, paste0('/Users/yhirasawa/Desktop/metrics.csv'))"
   ]
  }
 ],
 "metadata": {
  "kernelspec": {
   "display_name": "vbc-venv",
   "language": "python",
   "name": "python3"
  },
  "language_info": {
   "codemirror_mode": {
    "name": "ipython",
    "version": 3
   },
   "file_extension": ".py",
   "mimetype": "text/x-python",
   "name": "python",
   "nbconvert_exporter": "python",
   "pygments_lexer": "ipython3",
   "version": "3.9.1"
  },
  "orig_nbformat": 4,
  "vscode": {
   "interpreter": {
    "hash": "46ac4b90797e56e6e432fabd5e5ab286f2c50dae596b29473b191b3fbb76096c"
   }
  }
 },
 "nbformat": 4,
 "nbformat_minor": 2
}
