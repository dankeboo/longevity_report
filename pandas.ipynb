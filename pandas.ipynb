{
 "cells": [
  {
   "cell_type": "code",
   "execution_count": 2,
   "metadata": {},
   "outputs": [
    {
     "name": "stdout",
     "output_type": "stream",
     "text": [
      "processing scope: 01 system\n",
      "processing scope: 011 system IO\n",
      "processing scope: 012 ingestion\n",
      "processing scope: 0121 ingestion\n",
      "processing scope: 0130 search\n",
      "processing scope: 013 adhoc search\n",
      "processing scope: 0131 adhoc search\n",
      "processing scope: 014 DMA search\n",
      "processing scope: 0141 DMA search\n",
      "processing scope: 015 ES correlation search\n",
      "processing scope: 0151 ES correlation search\n",
      "processing scope: 016 ES saved search\n",
      "processing scope: 0161 ES saved search\n"
     ]
    }
   ],
   "source": [
    "import metricslib\n",
    "\n",
    "# hint: use sft ssh tunnel to access port 8089 in cloud env\n",
    "#  sft ssh -L 8089:localhost:8089 52.205.242.226\n",
    "# \n",
    "\n",
    "span='5m'\n",
    "timecmd = ''\n",
    "build = 'ib-c11'\n",
    "host_samples=\"\"\"\n",
    "    (\n",
    "        host=sh-i-08d78ca895e0f82be*\n",
    "        OR \n",
    "        host=sh-i-05c6f78a25760a5d4*\n",
    "        OR \n",
    "        host=c0m1-i-0b25d7ecf8841a3b*\n",
    "        OR\n",
    "        host=idx-i-06b3d0c75e30d380*\n",
    "    )\n",
    "    \"\"\"\n",
    "\n",
    "df=metricslib.get_results(span, timecmd, host_samples)\n",
    "df.assign(build=[build,] * len(df.index))\n",
    "# df.to_csv('/tmp/metrics.csv')"
   ]
  },
  {
   "cell_type": "code",
   "execution_count": null,
   "metadata": {},
   "outputs": [],
   "source": [
    "# R style data.frame\n",
    "\n",
    "from rpy2.robjects.packages import importr\n",
    "import rpy2.robjects as ro\n",
    "from rpy2.robjects import pandas2ri\n",
    "from rpy2.ipython import html\n",
    "from functools import partial\n",
    "\n",
    "html.init_printing()\n",
    "html.html_rdataframe=partial(html.html_rdataframe, table_class=\"docutils\")\n",
    "\n",
    "with ro.default_converter + pandas2ri.converter:\n",
    "    r_df = ro.conversion.get_conversion().py2rpy(df)"
   ]
  }
 ],
 "metadata": {
  "kernelspec": {
   "display_name": "vbc-venv",
   "language": "python",
   "name": "python3"
  },
  "language_info": {
   "codemirror_mode": {
    "name": "ipython",
    "version": 3
   },
   "file_extension": ".py",
   "mimetype": "text/x-python",
   "name": "python",
   "nbconvert_exporter": "python",
   "pygments_lexer": "ipython3",
   "version": "3.9.1"
  },
  "orig_nbformat": 4,
  "vscode": {
   "interpreter": {
    "hash": "46ac4b90797e56e6e432fabd5e5ab286f2c50dae596b29473b191b3fbb76096c"
   }
  }
 },
 "nbformat": 4,
 "nbformat_minor": 2
}
