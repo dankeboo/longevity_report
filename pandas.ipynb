{
 "cells": [
  {
   "cell_type": "code",
   "execution_count": null,
   "metadata": {},
   "outputs": [],
   "source": [
    "import metricslib\n",
    "\n",
    "span='1h'\n",
    "timecmd = 'earliest=-5d'\n",
    "build = 'bryllium'\n",
    "\n",
    "df=metricslib.get_results(span, timecmd)\n",
    "df.assign(build=[build,] * len(df.index))\n",
    "df.to_csv('/Users/yhirasawa/Desktop/metrics.csv')"
   ]
  },
  {
   "cell_type": "code",
   "execution_count": null,
   "metadata": {},
   "outputs": [],
   "source": [
    "from rpy2.robjects.packages import importr\n",
    "import rpy2.robjects as ro\n",
    "from rpy2.robjects import pandas2ri\n",
    "from rpy2.ipython import html\n",
    "from functools import partial\n",
    "\n",
    "html.init_printing()\n",
    "html.html_rdataframe=partial(html.html_rdataframe, table_class=\"docutils\")\n",
    "\n",
    "with ro.default_converter + pandas2ri.converter:\n",
    "    r_df = ro.conversion.get_conversion().py2rpy(df)"
   ]
  }
 ],
 "metadata": {
  "kernelspec": {
   "display_name": "vbc-venv",
   "language": "python",
   "name": "python3"
  },
  "language_info": {
   "codemirror_mode": {
    "name": "ipython",
    "version": 3
   },
   "file_extension": ".py",
   "mimetype": "text/x-python",
   "name": "python",
   "nbconvert_exporter": "python",
   "pygments_lexer": "ipython3",
   "version": "3.9.1"
  },
  "orig_nbformat": 4,
  "vscode": {
   "interpreter": {
    "hash": "46ac4b90797e56e6e432fabd5e5ab286f2c50dae596b29473b191b3fbb76096c"
   }
  }
 },
 "nbformat": 4,
 "nbformat_minor": 2
}
